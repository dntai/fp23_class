{
 "cells": [
  {
   "cell_type": "code",
   "execution_count": 1,
   "metadata": {},
   "outputs": [],
   "source": [
    ":opt no-lint"
   ]
  },
  {
   "cell_type": "code",
   "execution_count": 23,
   "metadata": {},
   "outputs": [],
   "source": [
    "import Graphics.Matplotlib\n",
    "import IHaskell.Display\n",
    "import Data.Text (Text)"
   ]
  },
  {
   "cell_type": "code",
   "execution_count": 24,
   "metadata": {},
   "outputs": [
    {
     "ename": "",
     "evalue": "",
     "output_type": "error",
     "traceback": [
      "<interactive>:1:1: error:\n    • Data constructor not in scope: Dispplay :: [DisplayData] -> t\n    • Perhaps you meant one of these: ‘Display’ (imported from IHaskell.Display.Juicypixels), ‘Display_’ (imported from Graphics.Svg), variable ‘display’ (imported from IHaskell.Display.Juicypixels)"
     ]
    }
   ],
   "source": [
    ":set -XExtendedDefaultRules\n",
    "import Graphics.Matplotlib\n",
    "import Graphics.Svg\n",
    "\n",
    "Dispplay [svg (toSvg $ contourF (\\a b -> sin (a*pi/180.0) + cos (b*pi/180.0)) (-100) 100 (-200) 200 10)]"
   ]
  },
  {
   "cell_type": "code",
   "execution_count": 30,
   "metadata": {},
   "outputs": [
    {
     "data": {
      "text/plain": [
       "--- IHaskell.Display.Matplotlib ---"
      ]
     },
     "metadata": {},
     "output_type": "display_data"
    }
   ],
   "source": [
    ":load libs/IHaskell/Display/Matplotlib.hs\n",
    "import IHaskell.Display.Matplotlib as M (printModuleName)\n",
    "M.printModuleName"
   ]
  },
  {
   "cell_type": "code",
   "execution_count": null,
   "metadata": {},
   "outputs": [],
   "source": []
  }
 ],
 "metadata": {
  "kernelspec": {
   "display_name": "Haskell",
   "language": "haskell",
   "name": "haskell"
  },
  "language_info": {
   "codemirror_mode": "ihaskell",
   "file_extension": ".hs",
   "mimetype": "text/x-haskell",
   "name": "haskell",
   "pygments_lexer": "Haskell",
   "version": "9.0.2"
  }
 },
 "nbformat": 4,
 "nbformat_minor": 2
}
