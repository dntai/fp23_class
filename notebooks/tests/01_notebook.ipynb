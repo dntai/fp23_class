{
 "cells": [
  {
   "cell_type": "code",
   "execution_count": 1,
   "metadata": {},
   "outputs": [],
   "source": [
    ":opt no-lint"
   ]
  },
  {
   "cell_type": "code",
   "execution_count": 3,
   "metadata": {},
   "outputs": [],
   "source": [
    "-- import IHaskell.Display.Gnuplot\n",
    "import Graphics.Gnuplot.Plot.TwoDimensional\n",
    "import Graphics.Gnuplot.Graph.TwoDimensional as Type"
   ]
  },
  {
   "cell_type": "code",
   "execution_count": 4,
   "metadata": {},
   "outputs": [
    {
     "ename": "",
     "evalue": "",
     "output_type": "error",
     "traceback": [
      "<interactive>:1:1: error:\n    • No instance for (Show (Graphics.Gnuplot.Plot.TwoDimensional.T Double Double)) arising from a use of ‘print’\n    • In a stmt of an interactive GHCi command: print it"
     ]
    }
   ],
   "source": [
    "function Type.lines (linearScale 1000 (-10,10)) sin"
   ]
  },
  {
   "cell_type": "code",
   "execution_count": 9,
   "metadata": {},
   "outputs": [],
   "source": [
    "import qualified IHaskell.Display as D"
   ]
  },
  {
   "cell_type": "code",
   "execution_count": 19,
   "metadata": {},
   "outputs": [],
   "source": [
    ":set -XExtendedDefaultRules\n",
    "import Graphics.Matplotlib\n",
    "import Graphics.Svg\n",
    "\n",
    "c = (toSvg $ contourF (\\a b -> sin (a*pi/180.0) + cos (b*pi/180.0)) (-100) 100 (-200) 200 10)"
   ]
  },
  {
   "cell_type": "code",
   "execution_count": 20,
   "metadata": {},
   "outputs": [
    {
     "ename": "",
     "evalue": "",
     "output_type": "error",
     "traceback": [
      "<interactive>:1:1: error:\n    • Couldn't match expected type: IO (Either String String) -> t\n                  with actual type: IO (Either String String)\n    • The function ‘svg’ is applied to one value argument, but its type ‘IO (Either String String)’ has none\n      In the expression: svg c\n      In an equation for ‘it’: it = svg c\n    • Relevant bindings include it :: t (bound at <interactive>:1:1)"
     ]
    }
   ],
   "source": [
    "svg c"
   ]
  },
  {
   "cell_type": "code",
   "execution_count": null,
   "metadata": {},
   "outputs": [],
   "source": []
  }
 ],
 "metadata": {
  "kernelspec": {
   "display_name": "Haskell",
   "language": "haskell",
   "name": "haskell"
  },
  "language_info": {
   "codemirror_mode": "ihaskell",
   "file_extension": ".hs",
   "mimetype": "text/x-haskell",
   "name": "haskell",
   "pygments_lexer": "Haskell",
   "version": "9.0.2"
  }
 },
 "nbformat": 4,
 "nbformat_minor": 2
}
